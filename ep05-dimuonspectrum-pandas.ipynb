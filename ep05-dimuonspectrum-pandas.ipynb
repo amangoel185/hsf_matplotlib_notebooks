{
  "cells": [
    {
      "cell_type": "markdown",
      "metadata": {
        "id": "view-in-github",
        "colab_type": "text"
      },
      "source": [
        "<a href=\"https://colab.research.google.com/github/plttraining/hsf_matplotlib_notebooks/blob/main/ep05-dimuonspectrum-pandas.ipynb\" target=\"_parent\"><img src=\"https://colab.research.google.com/assets/colab-badge.svg\" alt=\"Open In Colab\"/></a>"
      ]
    },
    {
      "cell_type": "markdown",
      "metadata": {
        "id": "eSqk6ZvCTatQ"
      },
      "source": [
        "# **If on Colab**\n",
        "\n",
        "Please click on the bage and then run the code below"
      ],
      "id": "eSqk6ZvCTatQ"
    },
    {
      "cell_type": "code",
      "source": [
        "! git clone https://github.com/plttraining/hsf_matplotlib_notebooks.git\n",
        "! cd hsf_matplotlib_notebooks/; pip install -r requirements.txt \n",
        "% cd hsf_matplotlib_notebooks/"
      ],
      "metadata": {
        "id": "tP7SqSpMTkHC"
      },
      "id": "tP7SqSpMTkHC",
      "execution_count": null,
      "outputs": []
    },
    {
      "cell_type": "markdown",
      "source": [
        "\n",
        "\n",
        "You might see a warning to Restart the Runtime. This is expected. Just go to the `Kernel` tab and click on `Restart runtime`. Without this restart on Colab you might be able not use mplhep properly.\n",
        "\n",
        "You only have to do this once per notebook on Google Colab.\n"
      ],
      "metadata": {
        "id": "YhKLOE-AT1eY"
      },
      "id": "YhKLOE-AT1eY"
    },
    {
      "cell_type": "markdown",
      "metadata": {
        "id": "ChEwEkRfCRMJ"
      },
      "source": [
        "# Looking at the dimuon spectrum over a wide energy range"
      ],
      "id": "ChEwEkRfCRMJ"
    },
    {
      "cell_type": "markdown",
      "metadata": {
        "id": "5Q3czKXICRMN"
      },
      "source": [
        "<h3>Learning goals</h3>\n",
        "<ul>\n",
        "    <li>Relativistic kinematics.\n",
        "    <li>Mesons.\n",
        "</ul>"
      ],
      "id": "5Q3czKXICRMN"
    },
    {
      "cell_type": "markdown",
      "metadata": {
        "id": "-EQWisz_CRMQ"
      },
      "source": [
        "<b>Background</b>\n",
        "\n",
        "To determine the mass ($m$) of a particle you need to know the 4-momenta of the particles ($\\mathbf{P}$) that are detected after the collision: the energy ($E$), the momentum in the x direction ($p_x$), the momentum in the y direction ($p_y$), the momentum in the z direction ($p_z$).\n",
        "\n",
        "$$\\mathbf{P} = (E,p_x,p_y,p_z)$$\n",
        "\n",
        "\n",
        "\\begin{equation*} m = \\sqrt{E^2-(p_x^2+p_y^2 + p_z^2)} \\end{equation*}\n",
        "\n",
        "Some particles are very unstable and decay (turn into) to two or more other particles. In fact, they can decay so quickly, that they never interact with your detector! Yikes!\n",
        "\n",
        "However, we can reconstruct the parent particle (sometimes referred to as <b>the initial state particle</b>) and its 4-momentum by adding the 4-momenta of the child particles (sometimes referred to as <b>the decay products</b>). \n",
        "\n",
        "$$\\mathbf{P_{\\rm parent}} = \\mathbf{P_{\\rm child 0}} + \\mathbf{P_{\\rm child 1}} + \\mathbf{P_{\\rm child 2}} + ...$$\n",
        "\n",
        "\n",
        "\n",
        "which breaks down into...\n",
        "\n",
        "$$E_{\\rm parent} = E_{\\rm child 0} + E_{\\rm child 1} + E_{\\rm child 2} + ...$$\n",
        "\n",
        "$$p_{\\rm x parent} = p_{\\rm x child 0} + p_{\\rm x child 1} + p_{\\rm x child 2} + ...$$\n",
        "\n",
        "$$p_{\\rm y parent} = p_{\\rm y child 0} + p_{\\rm y child 1} + p_{\\rm y child 2} + ...$$\n",
        "\n",
        "$$p_{\\rm z parent} = p_{\\rm z child 0} + p_{\\rm y child 1} + p_{\\rm z child 2} + ...$$\n"
      ],
      "id": "-EQWisz_CRMQ"
    },
    {
      "cell_type": "markdown",
      "metadata": {
        "id": "rQR8GLXUCRMS"
      },
      "source": [
        "<b>Let's code!</b>\n",
        "\n",
        "Here is some very, very basic starter code. It reads in data from the CMS experiment. \n",
        " \n"
      ],
      "id": "rQR8GLXUCRMS"
    },
    {
      "cell_type": "markdown",
      "metadata": {
        "id": "Q5_Ws3DgCRMe"
      },
      "source": [
        "<h2><font color=\"red\">Challenge!</font></h2>\n",
        "\n",
        "Use the sample code to find the mass of the particle that the two muons came from (parent particle). \n",
        "\n",
        "To do this, you will need to loop over all pairs of muons for each collision, sum their 4-momenta (energy, px, py, and pz) and then use that to calculate the invariant mass. \n",
        "\n",
        "Do this for all pairs of muons for the case where the muons have opposite charges.\n",
        "\n",
        "\n",
        "<i>Hint!</i>\n",
        "\n",
        "It is very likely that a particle exists where there is a peak in the data. However, this is not always true. \n",
        "A peak in the data is most likely the mass of a particle. You can look at the approximate mass to figure out which particle \n",
        "is found in the data."
      ],
      "id": "Q5_Ws3DgCRMe"
    },
    {
      "cell_type": "markdown",
      "metadata": {
        "id": "Q1GLOtOfCRMg"
      },
      "source": [
        "Your histogram should look something like the following sketch. The value of the peaks should be the mass of a particle. You should be able to find two particles in their ground state. <a href=\"http://en.wikipedia.org/wiki/J/psi_meson\">Check your answer for the first particle!</a> <a href=\"http://en.wikipedia.org/wiki/Upsilon_meson\">Check your answer for the second particle!</a> "
      ],
      "id": "Q1GLOtOfCRMg"
    },
    {
      "cell_type": "code",
      "execution_count": null,
      "metadata": {
        "id": "nRdNKhJBCRMh",
        "tags": []
      },
      "outputs": [],
      "source": [
        "from IPython.display import Image\n",
        "Image(url='https://raw.githubusercontent.com/particle-physics-playground/playground/master/activities/images/dimuons_sketch.jpeg')"
      ],
      "id": "nRdNKhJBCRMh"
    },
    {
      "cell_type": "code",
      "execution_count": null,
      "metadata": {
        "id": "UI9SpKUnTati"
      },
      "outputs": [],
      "source": [
        "import numpy as np\n",
        "import h5py\n",
        "import awkward as ak\n",
        "import matplotlib.pyplot as plt\n",
        "import mplhep as hep\n",
        "import pandas as pd"
      ],
      "id": "UI9SpKUnTati"
    },
    {
      "cell_type": "markdown",
      "source": [
        "Decide which styling you want to use"
      ],
      "metadata": {
        "id": "jwmB_SAlVJz-"
      },
      "id": "jwmB_SAlVJz-"
    },
    {
      "cell_type": "code",
      "execution_count": null,
      "metadata": {
        "id": "a3CSg4r1Tatj"
      },
      "outputs": [],
      "source": [
        "# plt.style.use(\"default\") # This is the default style for matplotlib # Do not change this cell if you desire this option\n",
        "hep.style.use(\"ROOT\") # This is the mplhep style # Uncomment this line for this styling."
      ],
      "id": "a3CSg4r1Tatj"
    },
    {
      "cell_type": "markdown",
      "source": [
        "## Using Pandas to read the data "
      ],
      "metadata": {
        "id": "2tatMSVDUVbO"
      },
      "id": "2tatMSVDUVbO"
    },
    {
      "cell_type": "code",
      "execution_count": null,
      "metadata": {
        "tags": [],
        "id": "kVX3N4-VTatk"
      },
      "outputs": [],
      "source": [
        "df=pd.read_csv(\"https://raw.githubusercontent.com/particle-physics-playground/playground/master/data/dimuons.csv\",\n",
        "               names=['e1','px1','py1','pz1','q1',\n",
        "                      'e2','px2','py2','pz2','q2','m']\n",
        "               )\n",
        "df"
      ],
      "id": "kVX3N4-VTatk"
    },
    {
      "cell_type": "code",
      "source": [
        "# Let's keep the muons that provide sensible values for the mass given their kinematics.\n",
        "# One reason this is needed is because we might have limited precision in the measurements of the 4-momentum\n",
        "# if those muon kinematics are kept we might see negative masses !!\n",
        "\n",
        "cut1 =df.e1**2 - (df.px1**2 + df.py1**2 + df.pz1**2) >0\n",
        "cut2 =df.e2**2 - (df.px2**2 + df.py2**2 + df.pz2**2) >0\n",
        "# These are boolean arrays\n",
        "\n",
        "clean_df=df[cut1 & cut2] # Keep only those who pass our filter\n"
      ],
      "metadata": {
        "id": "6wGurW7YUzP7"
      },
      "id": "6wGurW7YUzP7",
      "execution_count": null,
      "outputs": []
    },
    {
      "cell_type": "code",
      "source": [
        "# Define our variables\n",
        "e1,e2 = clean_df.e1,clean_df.e2\n",
        "q1,q2 = clean_df.q1,clean_df.q2\n",
        "px1,px2 = clean_df.px1,clean_df.px2\n",
        "py1,py2= clean_df.py1,clean_df.py2\n",
        "pz1,pz2= clean_df.pz1,clean_df.pz2"
      ],
      "metadata": {
        "id": "ZeMwfplFUsyQ"
      },
      "id": "ZeMwfplFUsyQ",
      "execution_count": null,
      "outputs": []
    },
    {
      "cell_type": "markdown",
      "source": [
        "We are making a function to help us calculate the invariant mass of the dimuon event."
      ],
      "metadata": {
        "id": "APyN_yXKd5-K"
      },
      "id": "APyN_yXKd5-K"
    },
    {
      "cell_type": "code",
      "source": [
        "def invmass(e,px,py,pz,cut = 'all'):\n",
        "    if cut is 'all':\n",
        "        return (e**2 - (px**2 + py**2 + pz**2))**.5\n",
        "    else:\n",
        "        mass= (e[cut]**2 - (px[cut]**2 + py[cut]**2 + pz[cut]**2))**.5\n",
        "        return mass"
      ],
      "metadata": {
        "id": "s9wOOTOvCzZt"
      },
      "id": "s9wOOTOvCzZt",
      "execution_count": null,
      "outputs": []
    },
    {
      "cell_type": "code",
      "source": [
        ""
      ],
      "metadata": {
        "id": "Lrt1T7pttmhr"
      },
      "id": "Lrt1T7pttmhr",
      "execution_count": null,
      "outputs": []
    },
    {
      "cell_type": "markdown",
      "metadata": {
        "id": "FdkK6btZTato"
      },
      "source": [
        "## Excercise :\n",
        "Using our knowledge so far, make a histogram such that one can **visually** estimate the mass of the muon"
      ],
      "id": "FdkK6btZTato"
    },
    {
      "cell_type": "code",
      "execution_count": null,
      "metadata": {
        "id": "RQZRfAVeTato"
      },
      "outputs": [],
      "source": [
        "#### Your code here ####\n",
        "\n",
        "\n",
        "\n",
        "\n",
        "#### \n",
        "# Where is the value of the peak at?\n",
        "####"
      ],
      "id": "RQZRfAVeTato"
    },
    {
      "cell_type": "markdown",
      "metadata": {
        "id": "cuqYVIIoTatp"
      },
      "source": [
        "# Let's make the dimuon spectrum"
      ],
      "id": "cuqYVIIoTatp"
    },
    {
      "cell_type": "markdown",
      "source": [
        "First, let's assume that there are only 2 muons per event. We will loop over both muons and keep under seperate lists those with charge : \n",
        " - ($+,+$) \n",
        " - ($-,-$) \n",
        " - and those with oppossite charge ($\\pm,\\mp$)"
      ],
      "metadata": {
        "id": "7kzMWRkvdARV"
      },
      "id": "7kzMWRkvdARV"
    },
    {
      "cell_type": "markdown",
      "metadata": {
        "id": "u4JE-yN7Tatp"
      },
      "source": [
        "We need to calculate the sum the energies at the event level \n",
        "\n",
        "\n",
        "**REMEMBER** \n",
        "$$E_{\\rm parent} = E_{\\rm child 0} + E_{\\rm child 1} + E_{\\rm child 2} + ...$$\n",
        "\n",
        "$$p_{\\rm x parent} = p_{\\rm x child 0} + p_{\\rm x child 1} + p_{\\rm x child 2} + ...$$\n",
        "\n",
        "$$p_{\\rm y parent} = p_{\\rm y child 0} + p_{\\rm y child 1} + p_{\\rm y child 2} + ...$$\n",
        "\n",
        "$$p_{\\rm z parent} = p_{\\rm z child 0} + p_{\\rm y child 1} + p_{\\rm z child 2} + ...$$\n",
        "\n",
        "\n"
      ],
      "id": "u4JE-yN7Tatp"
    },
    {
      "cell_type": "code",
      "source": [
        "# Mass for all combinations\n",
        "E = e1 + e2\n",
        "PX = px1 + px2\n",
        "PY = py1 + py2\n",
        "PZ = pz1 + pz2\n",
        "M = invmass(E,PX,PY,PZ)\n",
        "\n",
        "# Keeping only opposite charged muon pairs\n",
        "cut = (q1*q2 < 0)\n",
        "pn = invmass(E,PX,PY,PZ,cut=cut)\n",
        "\n",
        "#Keeping only negative charged muon pairs\n",
        "cut = (q1+q2 == -2)\n",
        "nn = invmass(E,PX,PY,PZ,cut)\n",
        "\n",
        "#Keeping only positive charged muon pairs\n",
        "\n",
        "cut = (q1+q2 == 2)\n",
        "pp = invmass(E,PX,PY,PZ,cut)\n"
      ],
      "metadata": {
        "id": "XETWPbwU8Rya"
      },
      "id": "XETWPbwU8Rya",
      "execution_count": null,
      "outputs": []
    },
    {
      "cell_type": "markdown",
      "source": [
        "## Now we plot for all combinations\n",
        "\n",
        "I would like you to make these 4 histograms *in 4 different ways* focusing on on different mass ranges. To look at these mass ranges, you'll want to use the `bins` and `range` options in the `plt.hist()` function. \n",
        "\n",
        "* *Mass range 1*: 0 - 120\n",
        "* *Mass range 2*: 2 - 4\n",
        "* *Mass range 3*: 8 - 12\n",
        "* *Mass range 4*: 70 - 120\n",
        "\n",
        "Remember, you'll have 4 charge combinations for each of these histograms. \n",
        "1. All charge combinations\n",
        "2. Only positve muons\n",
        "3. Only negative muons\n",
        "4. Only oppositly charged muons"
      ],
      "metadata": {
        "id": "zehMgDheUjXW"
      },
      "id": "zehMgDheUjXW"
    },
    {
      "cell_type": "markdown",
      "source": [
        "Below I will give you some code to get you started. Please make your changes/additions below this cell and look at each mass range."
      ],
      "metadata": {
        "id": "aF0cHwVWMKsB"
      },
      "id": "aF0cHwVWMKsB"
    },
    {
      "cell_type": "code",
      "source": [
        "# mass = 0-120\n",
        "range=(0,120)\n",
        "fs=15\n",
        "\n",
        "plt.figure(figsize=(15,9))\n",
        "plt.subplot(221)\n",
        "plt.hist(M,bins=100,range=range,histtype='step',label='All charge combinations')\n",
        "plt.xlabel(r'Mass (GeV/c$^2$)',fontsize=fs)\n",
        "plt.legend(fontsize=fs)\n",
        "\n",
        "\n",
        "plt.subplot(222)\n",
        "plt.hist(pp,bins=100,range=range,histtype='step',label='$2+$')\n",
        "plt.xlabel(r'Mass (GeV/c$^2$)',fontsize=fs)\n",
        "plt.legend(fontsize=fs)\n",
        "\n",
        "\n",
        "plt.subplot(223)\n",
        "plt.hist(nn,bins=100,range=range,histtype='step',label='$2-$')\n",
        "plt.xlabel(r'Mass (GeV/c$^2$)',fontsize=fs)\n",
        "plt.legend(fontsize=fs)\n",
        "\n",
        "\n",
        "plt.subplot(224)\n",
        "plt.hist(pn,bins=100,range=range,histtype='step',label='Electrically neutral')\n",
        "plt.xlabel(r'Mass (GeV/c$^2$)',fontsize=fs)\n",
        "plt.legend(fontsize=fs)\n",
        "\n",
        "plt.tight_layout();"
      ],
      "metadata": {
        "id": "0SG_XipqMD0-"
      },
      "id": "0SG_XipqMD0-",
      "execution_count": null,
      "outputs": []
    },
    {
      "cell_type": "code",
      "execution_count": null,
      "metadata": {
        "id": "lDc_68uaTats"
      },
      "outputs": [],
      "source": [
        "##### Your code here #####\n",
        "# You should make a histogram that looks like the one at the end of this notebook. \n",
        "# It won't be a perfect match so don't worry to much if it seems odd.\n",
        "\n",
        "\n",
        "\n",
        "\n",
        "##########################\n",
        "\n",
        "\n",
        "plt.xlabel('mass (GeV/$c^2$)')\n",
        "plt.ylabel('Events')\n",
        "# plt.yscale('symlog')\n",
        "# plt.xscale('symlog')\n",
        "plt.title('Mass of dimuons per event')\n",
        "\n",
        "plt.show()\n"
      ],
      "id": "lDc_68uaTats"
    },
    {
      "cell_type": "markdown",
      "metadata": {
        "id": "4Kps3sGICRMu"
      },
      "source": [
        "Depending on what you did, you may see hints of particles below 20 GeV/c$^2$. It is possible you see signs of other particles at even higher energies. Plot your masses over a wide range of values, but then zoom in (change the plotting range) on different mass ranges to see if you can identify these particles.  "
      ],
      "id": "4Kps3sGICRMu"
    },
    {
      "cell_type": "code",
      "execution_count": null,
      "metadata": {
        "id": "bMhlKwy3Tatt"
      },
      "outputs": [],
      "source": [
        "\n",
        "Image(url='https://twiki.cern.ch/twiki/pub/CMSPublic/HLTDiMuon2017and2018/CMS_HLT_DimuonMass_Inclusive_2017.png',width=600)"
      ],
      "id": "bMhlKwy3Tatt"
    }
  ],
  "metadata": {
    "kernelspec": {
      "display_name": "Python 3",
      "language": "python",
      "name": "python3"
    },
    "language_info": {
      "codemirror_mode": {
        "name": "ipython",
        "version": 3
      },
      "file_extension": ".py",
      "mimetype": "text/x-python",
      "name": "python",
      "nbconvert_exporter": "python",
      "pygments_lexer": "ipython3",
      "version": "3.7.6"
    },
    "colab": {
      "name": "ep05-dimuonspectrum-pandas.ipynb",
      "provenance": [],
      "include_colab_link": true
    }
  },
  "nbformat": 4,
  "nbformat_minor": 5
}